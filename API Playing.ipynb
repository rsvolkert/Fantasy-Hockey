{
 "cells": [
  {
   "cell_type": "code",
   "execution_count": 16,
   "metadata": {},
   "outputs": [],
   "source": [
    "import requests\n",
    "r = requests.get('https://statsapi.web.nhl.com/api/v1/people/8471724/stats?stats=statsSingleSeason&season=20192020')"
   ]
  },
  {
   "cell_type": "code",
   "execution_count": 17,
   "metadata": {},
   "outputs": [
    {
     "data": {
      "text/plain": [
       "{'copyright': 'NHL and the NHL Shield are registered trademarks of the National Hockey League. NHL and NHL team marks are the property of the NHL and its teams. © NHL 2021. All Rights Reserved.',\n",
       " 'stats': [{'type': {'displayName': 'statsSingleSeason',\n",
       "    'gameType': {'id': 'R',\n",
       "     'description': 'Regular season',\n",
       "     'postseason': False}},\n",
       "   'splits': [{'season': '20192020',\n",
       "     'stat': {'timeOnIce': '1569:15',\n",
       "      'assists': 29,\n",
       "      'goals': 15,\n",
       "      'pim': 38,\n",
       "      'shots': 177,\n",
       "      'games': 61,\n",
       "      'hits': 101,\n",
       "      'powerPlayGoals': 6,\n",
       "      'powerPlayPoints': 15,\n",
       "      'powerPlayTimeOnIce': '214:19',\n",
       "      'evenTimeOnIce': '1220:38',\n",
       "      'penaltyMinutes': '38',\n",
       "      'faceOffPct': 0.0,\n",
       "      'shotPct': 8.5,\n",
       "      'gameWinningGoals': 2,\n",
       "      'overTimeGoals': 0,\n",
       "      'shortHandedGoals': 0,\n",
       "      'shortHandedPoints': 0,\n",
       "      'shortHandedTimeOnIce': '134:18',\n",
       "      'blocked': 91,\n",
       "      'plusMinus': 0,\n",
       "      'points': 44,\n",
       "      'shifts': 1762,\n",
       "      'timeOnIcePerGame': '25:43',\n",
       "      'evenTimeOnIcePerGame': '20:00',\n",
       "      'shortHandedTimeOnIcePerGame': '02:12',\n",
       "      'powerPlayTimeOnIcePerGame': '03:30'}}]}]}"
      ]
     },
     "execution_count": 17,
     "metadata": {},
     "output_type": "execute_result"
    }
   ],
   "source": [
    "r.json()"
   ]
  }
 ],
 "metadata": {
  "kernelspec": {
   "display_name": "Python 3",
   "language": "python",
   "name": "python3"
  },
  "language_info": {
   "codemirror_mode": {
    "name": "ipython",
    "version": 3
   },
   "file_extension": ".py",
   "mimetype": "text/x-python",
   "name": "python",
   "nbconvert_exporter": "python",
   "pygments_lexer": "ipython3",
   "version": "3.7.6"
  }
 },
 "nbformat": 4,
 "nbformat_minor": 4
}
